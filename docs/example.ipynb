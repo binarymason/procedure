{
 "cells": [
  {
   "cell_type": "markdown",
   "metadata": {},
   "source": [
    "# Why use procedures?\n",
    "\n",
    "This package makes it easy to use the Interactor Pattern in Python.  If you want to read up on that, [view the slides](https://blog.cleancoder.com/uncle-bob/2012/08/13/the-clean-architecture.html) or [watch video](https://www.youtube.com/watch?v=o_TH-Y78tt4)"
   ]
  },
  {
   "cell_type": "markdown",
   "metadata": {},
   "source": [
    "## Creating new Procedures\n",
    "\n",
    "Every `Procedure` accepts keyword arguments and return a Context data structure that has any output data and indicates if the procedure was a `success` or `failure`.\n",
    "\n",
    "It's easy to make a new Procedure.  Just define a class that inherits from `Procedure` and create a `run` method.  If you need to alter the `Context` data structure in any way, that is accessible in `self.ctx`.\n",
    "\n",
    "Here's an example:"
   ]
  },
  {
   "cell_type": "code",
   "execution_count": 1,
   "metadata": {},
   "outputs": [
    {
     "name": "stdout",
     "output_type": "stream",
     "text": [
      "/home/m/code/procedure\n"
     ]
    }
   ],
   "source": [
    "# Change path to import package\n",
    "%cd .."
   ]
  },
  {
   "cell_type": "code",
   "execution_count": 2,
   "metadata": {},
   "outputs": [
    {
     "data": {
      "text/plain": [
       "ExampleProcedureContext( baz='bang' failure=None foo='bar' status='success' success=True verbose=False )"
      ]
     },
     "execution_count": 2,
     "metadata": {},
     "output_type": "execute_result"
    }
   ],
   "source": [
    "from procedure import Procedure\n",
    "\n",
    "class ExampleProcedure(Procedure):\n",
    "    def run(self):\n",
    "        self.ctx.baz = \"bang\" # add data to ctx object\n",
    "\n",
    "result = ExampleProcedure.call(foo=\"bar\"); result"
   ]
  },
  {
   "cell_type": "code",
   "execution_count": 3,
   "metadata": {},
   "outputs": [
    {
     "data": {
      "text/plain": [
       "True"
      ]
     },
     "execution_count": 3,
     "metadata": {},
     "output_type": "execute_result"
    }
   ],
   "source": [
    "result.success"
   ]
  },
  {
   "cell_type": "code",
   "execution_count": 4,
   "metadata": {},
   "outputs": [
    {
     "data": {
      "text/plain": [
       "'bang'"
      ]
     },
     "execution_count": 4,
     "metadata": {},
     "output_type": "execute_result"
    }
   ],
   "source": [
    "result.baz"
   ]
  },
  {
   "cell_type": "markdown",
   "metadata": {},
   "source": [
    "### Using hooks\n",
    "There are two hooks available: `before_run` and `after_run` that you can use.  They are useful for doing things like defaults, setting up connections and cleaning up\n",
    "\n"
   ]
  },
  {
   "cell_type": "code",
   "execution_count": 5,
   "metadata": {},
   "outputs": [
    {
     "name": "stdout",
     "output_type": "stream",
     "text": [
      "before run\n",
      "during run\n",
      "after run\n"
     ]
    },
    {
     "data": {
      "text/plain": [
       "ExampleProcedureContext( failure=None foo='after run' status='success' success=True verbose=False )"
      ]
     },
     "execution_count": 5,
     "metadata": {},
     "output_type": "execute_result"
    }
   ],
   "source": [
    "from procedure import Procedure\n",
    "\n",
    "class ExampleProcedure(Procedure):\n",
    "    def before_run(self):\n",
    "        self.ctx.foo = \"before run\"\n",
    "\n",
    "    def run(self):\n",
    "        print(self.ctx.foo)\n",
    "        self.ctx.foo = \"during run\"\n",
    "\n",
    "    def after_run(self):\n",
    "        print(self.ctx.foo)\n",
    "        self.ctx.foo = \"after run\"\n",
    "\n",
    "result = ExampleProcedure.call()\n",
    "print(result.foo)\n",
    "result"
   ]
  }
 ],
 "metadata": {
  "kernelspec": {
   "display_name": "Python 3",
   "language": "python",
   "name": "python3"
  },
  "language_info": {
   "codemirror_mode": {
    "name": "ipython",
    "version": 3
   },
   "file_extension": ".py",
   "mimetype": "text/x-python",
   "name": "python",
   "nbconvert_exporter": "python",
   "pygments_lexer": "ipython3",
   "version": "3.6.9"
  }
 },
 "nbformat": 4,
 "nbformat_minor": 2
}
